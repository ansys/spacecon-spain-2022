{
  "cells": [
    {
      "cell_type": "code",
      "execution_count": null,
      "metadata": {
        "collapsed": false
      },
      "outputs": [],
      "source": [
        "%matplotlib inline"
      ]
    },
    {
      "cell_type": "markdown",
      "metadata": {},
      "source": [
        "# Short Python Tutorial\n",
        "\n",
        "In this tutorial, we will introduce very briefly what is Python and how\n",
        "to use it.\n",
        "\n",
        "But first\\...\n",
        "\n",
        "## What is Python?\n",
        "\n",
        "![](../images/python.png)\n",
        "\n",
        "Python is a high-level programming language widely used and\n",
        "general-purpose. Python improves code readability compared to other\n",
        "languages and it is very suitable for people starting to code. Also, it\n",
        "is dynamically-typed (as opposed to static, which runs many actions\n",
        "during compilation) and garbage-collected (memory is managed\n",
        "automatically when a variable is no longer used).\n",
        "\n",
        "## Introduction to Python\n",
        "\n",
        "Storing variables.\n"
      ]
    },
    {
      "cell_type": "code",
      "execution_count": null,
      "metadata": {
        "collapsed": false
      },
      "outputs": [],
      "source": [
        "mystring = \"text\"\n",
        "myotherstring = \"text\"\n",
        "myfloat = 2.2\n",
        "myint = 2\n",
        "mybool = True  # ``True`` and ``False`` are reserved keywords. As well as ``for``, ``in``, ``as`` and some more."
      ]
    },
    {
      "cell_type": "markdown",
      "metadata": {},
      "source": [
        "There are functions such as `print` or `help` which can be called as:\n"
      ]
    },
    {
      "cell_type": "code",
      "execution_count": null,
      "metadata": {
        "collapsed": false
      },
      "outputs": [],
      "source": [
        "print(\"Hello Madrid!\")  # You can call functions using parenthesis\n",
        "\n",
        "help(print)"
      ]
    },
    {
      "cell_type": "markdown",
      "metadata": {},
      "source": [
        "There are other more complex structures such as list, tuples, dicts, etc\n"
      ]
    },
    {
      "cell_type": "code",
      "execution_count": null,
      "metadata": {
        "collapsed": false
      },
      "outputs": [],
      "source": [
        "mylist = [1, 2.2, \"asdf\"]\n",
        "print(mylist[0])  # Python is zero based indexing!\n",
        "\n",
        "mytuple = (1, 2.5, \"qwer\")\n",
        "print(mytuple[2])  # Indexing in python is done using square brackets ``[]``"
      ]
    },
    {
      "cell_type": "markdown",
      "metadata": {},
      "source": [
        "This is a dict which does a mapping between its keys and values.\n"
      ]
    },
    {
      "cell_type": "code",
      "execution_count": null,
      "metadata": {
        "collapsed": false
      },
      "outputs": [],
      "source": [
        "mydict = {\"a\": 1, \"b\": 2, \"c\": 3}\n",
        "# keys are the leters, but it could be anything\n",
        "# values are the numbers, but it could be anything!\n",
        "\n",
        "print(mydict[\"c\"])"
      ]
    },
    {
      "cell_type": "markdown",
      "metadata": {},
      "source": [
        "# Control flow in Python\n",
        "\n",
        "You can do conditionals (`if`) as the following:\n"
      ]
    },
    {
      "cell_type": "code",
      "execution_count": null,
      "metadata": {
        "collapsed": false
      },
      "outputs": [],
      "source": [
        "my_int = 2\n",
        "\n",
        "if myint > 5:\n",
        "    print(\"My int is bigger than 5!\")\n",
        "elif myint > 2:\n",
        "    print(\"My int is bigger than 2!\")\n",
        "else:\n",
        "    print(\"Any other case\")\n",
        "\n",
        "if mybool:\n",
        "    print(\"Because 'mybool' is True, I'm showing you this.\")\n",
        "\n",
        "if mystring == myotherstring:  # \"text\" == 'text'\n",
        "    print(\"Although we used different quotes, they are the same!\")"
      ]
    },
    {
      "cell_type": "markdown",
      "metadata": {},
      "source": [
        "# Loops in python\n",
        "\n",
        "Loops in Python can be done as:\n"
      ]
    },
    {
      "cell_type": "code",
      "execution_count": null,
      "metadata": {
        "collapsed": false
      },
      "outputs": [],
      "source": [
        "for i in [1, 2, 3]:\n",
        "    print(i)"
      ]
    },
    {
      "cell_type": "markdown",
      "metadata": {},
      "source": [
        "or\n"
      ]
    },
    {
      "cell_type": "code",
      "execution_count": null,
      "metadata": {
        "collapsed": false
      },
      "outputs": [],
      "source": [
        "for i in range(0, 5):\n",
        "    print(i)"
      ]
    },
    {
      "cell_type": "markdown",
      "metadata": {},
      "source": [
        "there is also \\'while\\' loops\n"
      ]
    },
    {
      "cell_type": "code",
      "execution_count": null,
      "metadata": {
        "collapsed": false
      },
      "outputs": [],
      "source": [
        "i = 0\n",
        "while i < 5:\n",
        "    print(i)\n",
        "    i = i + 1"
      ]
    },
    {
      "cell_type": "markdown",
      "metadata": {},
      "source": [
        "You can \\\"break\\\" loops using the keyword `break`\n"
      ]
    },
    {
      "cell_type": "code",
      "execution_count": null,
      "metadata": {
        "collapsed": false
      },
      "outputs": [],
      "source": [
        "i = 0\n",
        "j = 0\n",
        "while i < 10:\n",
        "    print(i, j)\n",
        "    i += 1  # Convenient way to express: i = i + 1\n",
        "    j += 2\n",
        "\n",
        "    if j > 5:  # early exit\n",
        "        print(\"Exiting early!\")\n",
        "        break"
      ]
    },
    {
      "cell_type": "markdown",
      "metadata": {},
      "source": [
        "# Importing other libraries\n",
        "\n",
        "You can also import other libraries that expand Python functionalities\n",
        "by providing more data structures, functions and/or classes.\n"
      ]
    },
    {
      "cell_type": "code",
      "execution_count": null,
      "metadata": {
        "collapsed": false
      },
      "outputs": [],
      "source": [
        "import os  # for Operative system operations related\n",
        "\n",
        "print(os.name)  # OS name"
      ]
    },
    {
      "cell_type": "markdown",
      "metadata": {},
      "source": [
        "You can also import modules/functions from libraries\n"
      ]
    },
    {
      "cell_type": "code",
      "execution_count": null,
      "metadata": {
        "collapsed": false
      },
      "outputs": [],
      "source": [
        "from os.path import exists\n",
        "\n",
        "exists(\"myfile.txt\")  # Check if file 'myfile.txt' exists or not. Should show False"
      ]
    },
    {
      "cell_type": "markdown",
      "metadata": {},
      "source": [
        "You can import a library giving it another name\n"
      ]
    },
    {
      "cell_type": "code",
      "execution_count": null,
      "metadata": {
        "collapsed": false
      },
      "outputs": [],
      "source": [
        "import math as mm  # Built in math library\n",
        "\n",
        "print(mm.sqrt(2))"
      ]
    },
    {
      "cell_type": "markdown",
      "metadata": {},
      "source": [
        "# Numpy and Matplotlib\n",
        "\n",
        "Some of the most used Python libraries are: Numpy and Matplotlib. The\n",
        "first one is for numerical calculations and the second is for plotting.\n"
      ]
    },
    {
      "cell_type": "code",
      "execution_count": null,
      "metadata": {
        "collapsed": false
      },
      "outputs": [],
      "source": [
        "import numpy as np\n",
        "\n",
        "my_array = np.array(\n",
        "    [1, 2, 3]\n",
        ")  # Arrays are a very convenient and powefull data structure.\n",
        "\n",
        "print(my_array * 2)  # Element wise operations\n",
        "\n",
        "print(my_array.T)  # Transpose\n",
        "\n",
        "# It doesn't need to be a vector\n",
        "my_matrix = np.array([[1, 3, 4], [4, 5, 6]])  # You store arrays of any shape"
      ]
    },
    {
      "cell_type": "markdown",
      "metadata": {},
      "source": [
        "You can index elements using square brackets:\n"
      ]
    },
    {
      "cell_type": "code",
      "execution_count": null,
      "metadata": {
        "collapsed": false
      },
      "outputs": [],
      "source": [
        "my_matrix[0, 0]  # 1\n",
        "my_matrix[1, 1]  # 5\n",
        "my_matrix[0, :]  # [1, 3, 4]\n",
        "my_matrix[:, 0]  # [1, 4]"
      ]
    },
    {
      "cell_type": "markdown",
      "metadata": {},
      "source": [
        "For plotting you can use matplotlib\n"
      ]
    },
    {
      "cell_type": "code",
      "execution_count": null,
      "metadata": {
        "collapsed": false
      },
      "outputs": [],
      "source": [
        "from matplotlib import pyplot as plt\n",
        "\n",
        "plt.plot(my_array, my_matrix[1, :], \"r\")\n",
        "plt.title(\"My plot!\")\n",
        "plt.show()"
      ]
    },
    {
      "cell_type": "markdown",
      "metadata": {},
      "source": [
        "You can do multiple lines at once.\n"
      ]
    },
    {
      "cell_type": "code",
      "execution_count": null,
      "metadata": {
        "collapsed": false
      },
      "outputs": [],
      "source": [
        "plt.plot(my_array, my_matrix[0, :], \"r\", label=\"My red line\")\n",
        "plt.plot(my_array, my_matrix[1, :], \"b\", label=\"My blue line\")\n",
        "plt.title(\"My fancy plot\")\n",
        "plt.legend()\n",
        "plt.show()"
      ]
    },
    {
      "cell_type": "markdown",
      "metadata": {},
      "source": [
        "# Plotting a NACA airfoil\n",
        "\n",
        "*\\\"Those plots looks rather simple plots\\....\\\"*\n",
        "\n",
        "Ok, let me show you:\n",
        "\n",
        "Reference:\n",
        "<https://en.wikipedia.org/wiki/NACA_airfoil#Equation_for_a_cambered_4-digit_NACA_airfoil>\n"
      ]
    },
    {
      "cell_type": "code",
      "execution_count": null,
      "metadata": {
        "collapsed": false
      },
      "outputs": [],
      "source": [
        "# First let define some helper functions.\n",
        "def camber_line(x, m, p, c):\n",
        "    return np.where(\n",
        "        (x >= 0) & (x <= (c * p)),\n",
        "        m * (x / np.power(p, 2)) * (2.0 * p - (x / c)),\n",
        "        m * ((c - x) / np.power(1 - p, 2)) * (1.0 + (x / c) - 2.0 * p),\n",
        "    )\n",
        "\n",
        "\n",
        "def dyc_over_dx(x, m, p, c):\n",
        "    return np.where(\n",
        "        (x >= 0) & (x <= (c * p)),\n",
        "        ((2.0 * m) / np.power(p, 2)) * (p - x / c),\n",
        "        ((2.0 * m) / np.power(1 - p, 2)) * (p - x / c),\n",
        "    )\n",
        "\n",
        "\n",
        "def thickness(x, t, c):\n",
        "    term1 = 0.2969 * (np.sqrt(x / c))\n",
        "    term2 = -0.1260 * (x / c)\n",
        "    term3 = -0.3516 * np.power(x / c, 2)\n",
        "    term4 = 0.2843 * np.power(x / c, 3)\n",
        "    term5 = -0.1015 * np.power(x / c, 4)\n",
        "    return 5 * t * c * (term1 + term2 + term3 + term4 + term5)\n",
        "\n",
        "\n",
        "def naca4(x, m, p, t, c=1):\n",
        "    dyc_dx = dyc_over_dx(x, m, p, c)\n",
        "    th = np.arctan(dyc_dx)\n",
        "    yt = thickness(x, t, c)\n",
        "    yc = camber_line(x, m, p, c)\n",
        "    return (\n",
        "        (x - yt * np.sin(th), yc + yt * np.cos(th)),\n",
        "        (x + yt * np.sin(th), yc - yt * np.cos(th)),\n",
        "    )\n",
        "\n",
        "\n",
        "# NACA Parameters\n",
        "# naca2412\n",
        "m = 0.02\n",
        "p = 0.4\n",
        "t = 0.12\n",
        "c = 1.0\n",
        "\n",
        "x = np.linspace(0, 1, 200)\n",
        "for item in naca4(x, m, p, t, c):\n",
        "    plt.plot(item[0], item[1], \"b\")\n",
        "\n",
        "plt.plot(x, camber_line(x, m, p, c), \"r\")\n",
        "plt.axis(\"equal\")\n",
        "_ = plt.xlim((-0.05, 1.05))  # Store dummy values as '_'.\n",
        "\n",
        "\n",
        "# From: https://stackoverflow.com/questions/31815041/plotting-a-naca-4-series-airfoil"
      ]
    },
    {
      "cell_type": "markdown",
      "metadata": {},
      "source": [
        "**Cool stuff uh?**\n"
      ]
    },
    {
      "cell_type": "markdown",
      "metadata": {},
      "source": [
        "# Brief Python classes concept\n",
        "\n",
        "**What is a class?**\n",
        "\n",
        "A class is the main element in object-oriented programming (OOP). A\n",
        "class is a user-defined blueprint or prototype from which objects are\n",
        "created. It is a very powerful way to organize and use your code.\n",
        "\n",
        "As an example, a dog will always have some attributes such as name,\n",
        "breed, age and color. Thus, if you want to collect this information for\n",
        "100 dogs, you could create a class Dog that includes this information.\n",
        "This class Dog would then be reused to generate each of the 100 dogs\\'\n",
        "objects, all of them having the exact same attributes; name, breed, age\n",
        "and color.\n",
        "\n",
        "In Python everything you declare is considered an object, and hence they\n",
        "have some methods. For example strings have:\n"
      ]
    },
    {
      "cell_type": "code",
      "execution_count": null,
      "metadata": {
        "collapsed": false
      },
      "outputs": [],
      "source": [
        "mystring.startswith(\"t\")  # True\n",
        "mystring.split(\"e\")  # Break the string in a list [\"t\", \"xt\"]"
      ]
    },
    {
      "cell_type": "markdown",
      "metadata": {},
      "source": [
        "You can list the methods of an object using `dir`:\n"
      ]
    },
    {
      "cell_type": "code",
      "execution_count": null,
      "metadata": {
        "collapsed": false
      },
      "outputs": [],
      "source": [
        "print(dir(mystring))  # yes, '__add__' is a string method!"
      ]
    },
    {
      "cell_type": "markdown",
      "metadata": {},
      "source": [
        "You can create your own class and inherit from it.\n",
        "\n",
        "PyMAPDL provides you a class which gives you access to all MAPDL\n",
        "commands and more.\n"
      ]
    }
  ],
  "metadata": {
    "kernelspec": {
      "display_name": "Python 3",
      "language": "python",
      "name": "python3"
    },
    "language_info": {
      "codemirror_mode": {
        "name": "ipython",
        "version": 3
      },
      "file_extension": ".py",
      "mimetype": "text/x-python",
      "name": "python",
      "nbconvert_exporter": "python",
      "pygments_lexer": "ipython3",
      "version": "3.9.13"
    }
  },
  "nbformat": 4,
  "nbformat_minor": 0
}
