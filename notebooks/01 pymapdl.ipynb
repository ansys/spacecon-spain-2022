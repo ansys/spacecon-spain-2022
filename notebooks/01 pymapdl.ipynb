{
  "cells": [
    {
      "cell_type": "code",
      "execution_count": null,
      "metadata": {
        "collapsed": false
      },
      "outputs": [],
      "source": [
        "%matplotlib inline"
      ]
    },
    {
      "cell_type": "markdown",
      "metadata": {},
      "source": [
        "# PyMAPDL Tutorial\n",
        "\n",
        "In this tutorial, we will introduce some of the capabilities of PyMAPDL\n",
        "applied to Aerospace students and advocates.\n",
        "\n",
        "## Python + Ansys = PyAnsys\n",
        "\n",
        "PyAnsys is Ansys effort on making their products accessible using Python\n",
        "programming language.\n",
        "\n",
        "Today we will focus on PyMAPDL with is the Python library which exposes\n",
        "MAPDL (Ansys Structural).\n",
        "\n",
        "![](../images/pyansys.png)\n",
        "\n",
        "## What is PyMAPDL?\n",
        "\n",
        "PyMAPDL is the pythonic interface for Ansys MAPDL product.\n",
        "\n",
        "**What does this mean?**\n",
        "\n",
        "It means that you can call Ansys MAPDL functionalities (Solvers, Post\n",
        "processing tools, etc) using Python programming language.\n",
        "\n",
        "MAPDL provides many tools and features which would require *A LOT* of\n",
        "time to explain, so let\\'s have a quick overview.\n"
      ]
    },
    {
      "cell_type": "markdown",
      "metadata": {},
      "source": [
        "# Launching PyMAPDL\n",
        "\n",
        "But first, let\\'s launch PyMAPDL.\n"
      ]
    },
    {
      "cell_type": "code",
      "execution_count": null,
      "metadata": {
        "collapsed": false
      },
      "outputs": [],
      "source": [
        "from ansys.mapdl.core import launch_mapdl\n",
        "\n",
        "mapdl = launch_mapdl()\n",
        "\n",
        "print(mapdl)"
      ]
    },
    {
      "cell_type": "markdown",
      "metadata": {},
      "source": [
        "# Geometry\n",
        "\n",
        "PyMAPDL support points (keypoints), lines, areas, and volumes for\n",
        "geometry definition.\n",
        "\n",
        "You can plot an area using keypoints:\n"
      ]
    },
    {
      "cell_type": "code",
      "execution_count": null,
      "metadata": {
        "collapsed": false
      },
      "outputs": [],
      "source": [
        "mapdl.prep7()  # entering in preprocessor for geometry generation\n",
        "\n",
        "k0 = mapdl.k(\"\", 0, 0, 0)\n",
        "k1 = mapdl.k(\"\", 1, 0, 0)\n",
        "k2 = mapdl.k(\"\", 0, 1, 0)\n",
        "a0 = mapdl.a(k0, k1, k2)\n",
        "mapdl.aplot(show_lines=True, line_width=5, show_bounds=True, cpos=\"xy\")"
      ]
    },
    {
      "cell_type": "markdown",
      "metadata": {},
      "source": [
        "Create a simple cube volume.\n"
      ]
    },
    {
      "cell_type": "code",
      "execution_count": null,
      "metadata": {
        "collapsed": false
      },
      "outputs": [],
      "source": [
        "mapdl.clear()  # let's clear first.\n",
        "mapdl.prep7()  # entering in preprocessor\n",
        "\n",
        "k0 = mapdl.k(\"\", 0, 0, 0)  # defining a keypoint at (0,0,0) location\n",
        "k1 = mapdl.k(\"\", 1, 0, 0)  # defining a keypoint at (1,0,0) location\n",
        "k2 = mapdl.k(\"\", 1, 1, 0)  # etc\n",
        "k3 = mapdl.k(\"\", 0, 1, 0)\n",
        "k4 = mapdl.k(\"\", 0, 0, 1)\n",
        "k5 = mapdl.k(\"\", 1, 0, 1)\n",
        "k6 = mapdl.k(\"\", 1, 1, 1)\n",
        "k7 = mapdl.k(\"\", 0, 1, 1)\n",
        "\n",
        "# defining volume according the kps\n",
        "v0 = mapdl.v(k0, k1, k2, k3, k4, k5, k6, k7)\n",
        "\n",
        "mapdl.vplot(show_lines=True)"
      ]
    },
    {
      "cell_type": "markdown",
      "metadata": {},
      "source": [
        "# Material definition\n",
        "\n",
        "You can define materials using the following commands:\n"
      ]
    },
    {
      "cell_type": "code",
      "execution_count": null,
      "metadata": {
        "collapsed": false
      },
      "outputs": [],
      "source": [
        "# Define a material (nominal steel in SI)\n",
        "mapdl.mp(\"EX\", 1, 210e9)  # Elastic moduli in Pa (kg/(m*s**2))\n",
        "mapdl.mp(\"DENS\", 1, 7800)  # Density in kg/m3\n",
        "mapdl.mp(\"NUXY\", 1, 0.3)  # Poisson's Ratio"
      ]
    },
    {
      "cell_type": "markdown",
      "metadata": {},
      "source": [
        "At any point you can use help to get information about each function\n"
      ]
    },
    {
      "cell_type": "code",
      "execution_count": null,
      "metadata": {
        "collapsed": false
      },
      "outputs": [],
      "source": [
        "help(mapdl.mp)"
      ]
    },
    {
      "cell_type": "markdown",
      "metadata": {},
      "source": [
        "Or you can check the online help at\n",
        "[mapdl.docs.pyansys.com](https://mapdl.docs.pyansys.com/mapdl_commands/prep7/_autosummary/ansys.mapdl.core.Mapdl.mp.html?highlight=mp#ansys.mapdl.core.Mapdl.mp)\n"
      ]
    },
    {
      "cell_type": "markdown",
      "metadata": {},
      "source": [
        "# Element definition\n",
        "\n",
        "Since MAPDL is a finite element solver, the type of element needs to be\n",
        "defined. Ansys has an *Element Guide* which contain all the necessary\n",
        "information\n"
      ]
    },
    {
      "cell_type": "code",
      "execution_count": null,
      "metadata": {
        "collapsed": false
      },
      "outputs": [],
      "source": [
        "mapdl.et(1, \"SOLID186\")"
      ]
    },
    {
      "cell_type": "markdown",
      "metadata": {},
      "source": [
        "`SOLID186` is a 3D hexahedron element, suitable for any structural 3D\n",
        "analysis.\n",
        "\n",
        "There are also `KEYOPTS` which allow us to configure the elements. Also\n",
        "there is the constant sets `R` which helps us to set the analysis and\n",
        "element configurations.\n"
      ]
    },
    {
      "cell_type": "markdown",
      "metadata": {},
      "source": [
        "# Meshing\n",
        "\n",
        "Meshing is quite easy, once the element and material are defined.\n"
      ]
    },
    {
      "cell_type": "code",
      "execution_count": null,
      "metadata": {
        "collapsed": false
      },
      "outputs": [],
      "source": [
        "mapdl.esize(1 / 10)  # Element size\n",
        "mapdl.vmesh(v0)"
      ]
    },
    {
      "cell_type": "markdown",
      "metadata": {},
      "source": [
        "Let\\'s see the result\n"
      ]
    },
    {
      "cell_type": "code",
      "execution_count": null,
      "metadata": {
        "collapsed": false
      },
      "outputs": [],
      "source": [
        "mapdl.eplot()  # plot elements"
      ]
    },
    {
      "cell_type": "markdown",
      "metadata": {},
      "source": [
        "# Boundary conditions\n",
        "\n",
        "There are many boundary conditions options, and most of them are applied\n",
        "using `mapdl.d` (for displacement) or `mapdl.f` (for force).\n",
        "\n",
        "Let\\'s setup this example to represent a compression test. For that\n",
        "purpose, we need to fix the box bottom surface to have zero\n",
        "displacement.\n",
        "\n",
        "But first, we need to select the corresponding nodes using the\n",
        "`mapdl.nsel` command:\n"
      ]
    },
    {
      "cell_type": "code",
      "execution_count": null,
      "metadata": {
        "collapsed": false
      },
      "outputs": [],
      "source": [
        "help(mapdl.nsel)"
      ]
    },
    {
      "cell_type": "code",
      "execution_count": null,
      "metadata": {
        "collapsed": false
      },
      "outputs": [],
      "source": [
        "mapdl.nsel(\"S\", \"loc\", \"z\", 0)\n",
        "mapdl.nplot()  # check the selection"
      ]
    },
    {
      "cell_type": "markdown",
      "metadata": {},
      "source": [
        "Applying to all selected nodes, displacement in Z direction equals to\n",
        "zero.\n"
      ]
    },
    {
      "cell_type": "code",
      "execution_count": null,
      "metadata": {
        "collapsed": false
      },
      "outputs": [],
      "source": [
        "mapdl.d(\"all\", \"UZ\", 0)\n",
        "\n",
        "# Let's check the result\n",
        "mapdl.nplot(plot_bc=True)"
      ]
    },
    {
      "cell_type": "markdown",
      "metadata": {},
      "source": [
        "Let\\'s apply the rest of the boundary conditions.\n"
      ]
    },
    {
      "cell_type": "code",
      "execution_count": null,
      "metadata": {
        "collapsed": false
      },
      "outputs": [],
      "source": [
        "# Let's fix the box edge XZ to not move except along Y.\n",
        "mapdl.nsel(\"s\", \"loc\", \"z\", 0)\n",
        "# \"r\" is to reselect the nodes, from the previous \"S\" selection\n",
        "mapdl.nsel(\"r\", \"loc\", \"x\", 0)\n",
        "\n",
        "mapdl.d(\"all\", \"UZ\", 0)\n",
        "mapdl.d(\"all\", \"UX\", 0)\n",
        "\n",
        "# we will do the same with the line YZ, but not move along X direction.\n",
        "mapdl.nsel(\"s\", \"loc\", \"z\", 0)\n",
        "mapdl.nsel(\"r\", \"loc\", \"Y\", 0)\n",
        "\n",
        "mapdl.d(\"all\", \"UZ\", 0)\n",
        "mapdl.d(\"all\", \"UY\", 0)"
      ]
    },
    {
      "cell_type": "markdown",
      "metadata": {},
      "source": [
        "Finally let\\'s fix one node in the directions:\n"
      ]
    },
    {
      "cell_type": "code",
      "execution_count": null,
      "metadata": {
        "collapsed": false
      },
      "outputs": [],
      "source": [
        "mapdl.nsel(\"s\", \"loc\", \"x\", 0)\n",
        "mapdl.nsel(\"r\", \"loc\", \"y\", 0)\n",
        "mapdl.nsel(\"r\", \"loc\", \"z\", 0)\n",
        "\n",
        "mapdl.d(\"all\", \"all\", 0)\n",
        "\n",
        "# this code is redundant, because the nodal displacements do not overwrite each other\n",
        "# if they are not in the same direction.\n",
        "# This node was included in the previous lines selections, hence its\n",
        "# boundary conditions are already defined."
      ]
    },
    {
      "cell_type": "markdown",
      "metadata": {},
      "source": [
        "Let\\'s check the final result\n"
      ]
    },
    {
      "cell_type": "code",
      "execution_count": null,
      "metadata": {
        "collapsed": false
      },
      "outputs": [],
      "source": [
        "mapdl.nsel(\"s\", \"loc\", \"z\", 0)\n",
        "\n",
        "mapdl.nplot(plot_bc=True)"
      ]
    },
    {
      "cell_type": "markdown",
      "metadata": {},
      "source": [
        "Now let\\'s apply a displacement at the box top at each node. We could\n",
        "apply a force instead if we wish.\n"
      ]
    },
    {
      "cell_type": "code",
      "execution_count": null,
      "metadata": {
        "collapsed": false
      },
      "outputs": [],
      "source": [
        "mapdl.nsel(\"s\", \"loc\", \"z\", 1)\n",
        "# mapdl.f(\"all\", \"FZ\", 1E9)\n",
        "mapdl.d(\"all\", \"UZ\", 0.01)"
      ]
    },
    {
      "cell_type": "markdown",
      "metadata": {},
      "source": [
        "# Analysis setup\n",
        "\n",
        "Let\\'s do a simple static analysis\n"
      ]
    },
    {
      "cell_type": "code",
      "execution_count": null,
      "metadata": {
        "collapsed": false
      },
      "outputs": [],
      "source": [
        "mapdl.slashsolu()\n",
        "mapdl.allsel()  # making sure all nodes and elements are selected.\n",
        "mapdl.antype(\"STATIC\")\n",
        "output = mapdl.solve()\n",
        "print(output)"
      ]
    },
    {
      "cell_type": "markdown",
      "metadata": {},
      "source": [
        "# Post-Processing\n",
        "\n",
        "Let\\'s what we got. Let\\'s see the displacements:\n"
      ]
    },
    {
      "cell_type": "code",
      "execution_count": null,
      "metadata": {
        "collapsed": false
      },
      "outputs": [],
      "source": [
        "mapdl.post_processing.nodal_displacement(\"all\")"
      ]
    },
    {
      "cell_type": "markdown",
      "metadata": {},
      "source": [
        "Let\\'s plot them\n"
      ]
    },
    {
      "cell_type": "code",
      "execution_count": null,
      "metadata": {
        "collapsed": false
      },
      "outputs": [],
      "source": [
        "mapdl.post_processing.plot_nodal_displacement(\"Z\")"
      ]
    },
    {
      "cell_type": "markdown",
      "metadata": {},
      "source": [
        "We can store the displacements as an array and use them for our\n",
        "calculations. For example:\n"
      ]
    },
    {
      "cell_type": "code",
      "execution_count": null,
      "metadata": {
        "collapsed": false
      },
      "outputs": [],
      "source": [
        "nodal_disp = mapdl.post_processing.nodal_displacement(\"all\")\n",
        "\n",
        "print(f\"The maximum displacement is {nodal_disp.max():0.3f}\")"
      ]
    },
    {
      "cell_type": "markdown",
      "metadata": {},
      "source": [
        "Oh! By the way, you can format strings in this way, they are very\n",
        "powerful. This type of string is called f-string. The 0.3f after the\n",
        "colon (:) is the format for the number.\n"
      ]
    },
    {
      "cell_type": "code",
      "execution_count": null,
      "metadata": {
        "collapsed": false
      },
      "outputs": [],
      "source": [
        "# First column is X displacement\n",
        "print(f\"The maximum X displacement is {nodal_disp[:, 0].max():0.3f}\")\n",
        "\n",
        "print(f\"The average Z displacement is {nodal_disp[:, 2].mean():0.3f}\")"
      ]
    },
    {
      "cell_type": "markdown",
      "metadata": {},
      "source": [
        "# Closing session\n",
        "\n",
        "This is all for today. We hope you enjoyed this talk, as much as we\n",
        "enjoyed preparing it!\n",
        "\n",
        "Closing PyMAPDL session\n"
      ]
    },
    {
      "cell_type": "code",
      "execution_count": null,
      "metadata": {
        "collapsed": false
      },
      "outputs": [],
      "source": [
        "mapdl.exit()"
      ]
    }
  ],
  "metadata": {
    "kernelspec": {
      "display_name": "Python 3",
      "language": "python",
      "name": "python3"
    },
    "language_info": {
      "codemirror_mode": {
        "name": "ipython",
        "version": 3
      },
      "file_extension": ".py",
      "mimetype": "text/x-python",
      "name": "python",
      "nbconvert_exporter": "python",
      "pygments_lexer": "ipython3",
      "version": "3.9.13"
    }
  },
  "nbformat": 4,
  "nbformat_minor": 0
}
