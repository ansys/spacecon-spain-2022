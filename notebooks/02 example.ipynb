{
  "cells": [
    {
      "cell_type": "code",
      "execution_count": null,
      "metadata": {
        "collapsed": false
      },
      "outputs": [],
      "source": [
        "%matplotlib inline"
      ]
    },
    {
      "cell_type": "markdown",
      "metadata": {},
      "source": [
        "# A full PyMAPDL example\n",
        "\n",
        "Let\\'s see a full PyMAPDL example!\n",
        "\n",
        "We will reuse some of the code we used to plot the section of a NACA\n",
        "airfoil. With this section we will create a simple and straight wing\n",
        "where we will apply some constrains and loads.\n",
        "\n",
        "The idea is you can have an idea on how to use PyMAPDL together with\n",
        "other Python libraries for your own purposes (TFG? TFM? PhD?)\n"
      ]
    },
    {
      "cell_type": "markdown",
      "metadata": {},
      "source": [
        "# Setting up the environment\n",
        "\n",
        "First, let\\'s do some imports\n"
      ]
    },
    {
      "cell_type": "code",
      "execution_count": null,
      "metadata": {
        "collapsed": false
      },
      "outputs": [],
      "source": [
        "from matplotlib import pyplot as plt\n",
        "import numpy as np\n",
        "\n",
        "from ansys.mapdl.core import launch_mapdl"
      ]
    },
    {
      "cell_type": "markdown",
      "metadata": {},
      "source": [
        "and let\\'s launch PyMAPDL.\n"
      ]
    },
    {
      "cell_type": "code",
      "execution_count": null,
      "metadata": {
        "collapsed": false
      },
      "outputs": [],
      "source": [
        "mapdl = launch_mapdl()\n",
        "mapdl.prep7()"
      ]
    },
    {
      "cell_type": "markdown",
      "metadata": {},
      "source": [
        "# Geometry definition\n",
        "\n",
        "In the previous part of the talk we showed how to use some Python\n",
        "functions to plot a NACA airfoil. Here we will reuse those functions to\n",
        "generate the same section inside PyMAPDL.\n"
      ]
    },
    {
      "cell_type": "code",
      "execution_count": null,
      "metadata": {
        "collapsed": false
      },
      "outputs": [],
      "source": [
        "# Helper functions\n",
        "def camber_line(x, m, p, c):\n",
        "    return np.where(\n",
        "        (x >= 0) & (x <= (c * p)),\n",
        "        m * (x / np.power(p, 2)) * (2.0 * p - (x / c)),\n",
        "        m * ((c - x) / np.power(1 - p, 2)) * (1.0 + (x / c) - 2.0 * p),\n",
        "    )\n",
        "\n",
        "\n",
        "def dyc_over_dx(x, m, p, c):\n",
        "    return np.where(\n",
        "        (x >= 0) & (x <= (c * p)),\n",
        "        ((2.0 * m) / np.power(p, 2)) * (p - x / c),\n",
        "        ((2.0 * m) / np.power(1 - p, 2)) * (p - x / c),\n",
        "    )\n",
        "\n",
        "\n",
        "def thickness(x, t, c):\n",
        "    term1 = 0.2969 * (np.sqrt(x / c))\n",
        "    term2 = -0.1260 * (x / c)\n",
        "    term3 = -0.3516 * np.power(x / c, 2)\n",
        "    term4 = 0.2843 * np.power(x / c, 3)\n",
        "    term5 = -0.1015 * np.power(x / c, 4)\n",
        "    return 5 * t * c * (term1 + term2 + term3 + term4 + term5)\n",
        "\n",
        "\n",
        "def naca4(x, m, p, t, c=1):\n",
        "    dyc_dx = dyc_over_dx(x, m, p, c)\n",
        "    th = np.arctan(dyc_dx)\n",
        "    yt = thickness(x, t, c)\n",
        "    yc = camber_line(x, m, p, c)\n",
        "\n",
        "    # We are tuning a bit the output of this function to facilitate later processing.\n",
        "    x = x - yt * np.sin(th)\n",
        "    x = np.concatenate((x, x + yt * np.sin(th)), axis=0)\n",
        "\n",
        "    y = yc + yt * np.cos(th)\n",
        "    y = np.concatenate((y, yc - yt * np.cos(th)), axis=0)\n",
        "    return x, y"
      ]
    },
    {
      "cell_type": "markdown",
      "metadata": {},
      "source": [
        "NACA Parameters for naca2412\n"
      ]
    },
    {
      "cell_type": "code",
      "execution_count": null,
      "metadata": {
        "collapsed": false
      },
      "outputs": [],
      "source": [
        "m = 0.02\n",
        "p = 0.4\n",
        "t = 0.12\n",
        "c = 1.0"
      ]
    },
    {
      "cell_type": "markdown",
      "metadata": {},
      "source": [
        "Generating NACA points for the section.\n"
      ]
    },
    {
      "cell_type": "code",
      "execution_count": null,
      "metadata": {
        "collapsed": false
      },
      "outputs": [],
      "source": [
        "npoints = 50  # Increase this number to increase smoothness.\n",
        "x_ = np.linspace(0, 1, npoints)\n",
        "x, y = naca4(x_, m, p, t, c)"
      ]
    },
    {
      "cell_type": "markdown",
      "metadata": {},
      "source": [
        "# Generating keypoints\n"
      ]
    },
    {
      "cell_type": "code",
      "execution_count": null,
      "metadata": {
        "collapsed": false
      },
      "outputs": [],
      "source": [
        "mapdl.clear()\n",
        "mapdl.prep7()\n",
        "\n",
        "for each_x, each_y in zip(x, y):\n",
        "    mapdl.k(\"\", each_x, each_y)"
      ]
    },
    {
      "cell_type": "markdown",
      "metadata": {},
      "source": [
        "Checking results\n"
      ]
    },
    {
      "cell_type": "code",
      "execution_count": null,
      "metadata": {
        "collapsed": false
      },
      "outputs": [],
      "source": [
        "pl = mapdl.kplot(return_plotter=True)\n",
        "pl.view_xy()\n",
        "pl.show()"
      ]
    },
    {
      "cell_type": "markdown",
      "metadata": {},
      "source": [
        "# Generate lines from the points\n",
        "\n",
        "Because the helper functions give us two points per x-coordinate, we\n",
        "need to join those points in two times:\n"
      ]
    },
    {
      "cell_type": "code",
      "execution_count": null,
      "metadata": {
        "collapsed": false
      },
      "outputs": [],
      "source": [
        "half = len(mapdl.geometry.knum) // 2\n",
        "\n",
        "# Upper half points\n",
        "for kp in mapdl.geometry.knum[: half - 1]:\n",
        "    mapdl.l(kp, kp + 1)\n",
        "\n",
        "# Lower half points\n",
        "for kp in mapdl.geometry.knum[half + 1 : -1]:\n",
        "    mapdl.l(kp, kp + 1)"
      ]
    },
    {
      "cell_type": "markdown",
      "metadata": {},
      "source": [
        "Closing the section\n"
      ]
    },
    {
      "cell_type": "code",
      "execution_count": null,
      "metadata": {
        "collapsed": false
      },
      "outputs": [],
      "source": [
        "mapdl.l(1, half + 2)\n",
        "mapdl.l(half, mapdl.geometry.knum[-1])\n",
        "\n",
        "_ = mapdl.nummrg(\"all\", 0.05)  # Remove duplicated entities if any"
      ]
    },
    {
      "cell_type": "markdown",
      "metadata": {},
      "source": [
        "Let\\'s check the results\n"
      ]
    },
    {
      "cell_type": "code",
      "execution_count": null,
      "metadata": {
        "collapsed": false
      },
      "outputs": [],
      "source": [
        "pl = mapdl.lplot(return_plotter=True)\n",
        "pl.view_xy()\n",
        "pl.show()"
      ]
    },
    {
      "cell_type": "markdown",
      "metadata": {},
      "source": [
        "# Create section area\n",
        "\n",
        "Let\\'s create an area from those lines:\n"
      ]
    },
    {
      "cell_type": "code",
      "execution_count": null,
      "metadata": {
        "collapsed": false
      },
      "outputs": [],
      "source": [
        "mapdl.lsel(\"all\")\n",
        "mapdl.al(\"all\")"
      ]
    },
    {
      "cell_type": "markdown",
      "metadata": {},
      "source": [
        "# Create volume from extruding the area\n",
        "\n",
        "We are going to use the command `mapdl.vdrag` to create a volume by\n",
        "dragging an area along a line.\n"
      ]
    },
    {
      "cell_type": "code",
      "execution_count": null,
      "metadata": {
        "collapsed": false
      },
      "outputs": [],
      "source": [
        "help(mapdl.vdrag)"
      ]
    },
    {
      "cell_type": "markdown",
      "metadata": {},
      "source": [
        "First, let\\'s define the length we are going to use to drag the area\n",
        "along.\n"
      ]
    },
    {
      "cell_type": "code",
      "execution_count": null,
      "metadata": {
        "collapsed": false
      },
      "outputs": [],
      "source": [
        "lenght_wing = 1.5  # [m] MAPDL is unit agnostic.\n",
        "\n",
        "k0 = mapdl.k(\"\", 0, 0, 0)\n",
        "kz = mapdl.k(\"\", 0, 0, lenght_wing)\n",
        "\n",
        "ldrag = mapdl.l(k0, kz)"
      ]
    },
    {
      "cell_type": "markdown",
      "metadata": {},
      "source": [
        "Create the volume\n"
      ]
    },
    {
      "cell_type": "code",
      "execution_count": null,
      "metadata": {
        "collapsed": false
      },
      "outputs": [],
      "source": [
        "vol0 = mapdl.vdrag(\"all\", nlp1=ldrag)"
      ]
    },
    {
      "cell_type": "markdown",
      "metadata": {},
      "source": [
        "Let\\'s check the results\n"
      ]
    },
    {
      "cell_type": "code",
      "execution_count": null,
      "metadata": {
        "collapsed": false
      },
      "outputs": [],
      "source": [
        "mapdl.vplot()"
      ]
    },
    {
      "cell_type": "markdown",
      "metadata": {},
      "source": [
        "# Finite element definition\n",
        "\n",
        "As you all know, finite element approaches split the domains into\n",
        "\\\"finite elements\\\" where you solve your equations in their quadrature\n",
        "points. Therefore, we need to define how that domain split is going to\n",
        "be performed, aka \\\"choosing element type\\\".\n"
      ]
    },
    {
      "cell_type": "code",
      "execution_count": null,
      "metadata": {
        "collapsed": false
      },
      "outputs": [],
      "source": [
        "# Defining element type\n",
        "mapdl.et(1, \"SOLID187\")"
      ]
    },
    {
      "cell_type": "markdown",
      "metadata": {},
      "source": [
        "Here we could also define other element options using the `mapdl.keyopt`\n",
        "command.\n"
      ]
    },
    {
      "cell_type": "markdown",
      "metadata": {},
      "source": [
        "# Material definition\n",
        "\n",
        "Let\\'s define the material our wing is made off. We are going to choose\n",
        "steel in its simplest configuration (elastic linear material). But you\n",
        "could define other parameters (plasticity, fatige, viscoelasticity,\n",
        "etc).\n"
      ]
    },
    {
      "cell_type": "code",
      "execution_count": null,
      "metadata": {
        "collapsed": false
      },
      "outputs": [],
      "source": [
        "# Define a material (nominal steel in SI)\n",
        "mapdl.mp(\"EX\", 1, 210e9)  # Elastic moduli in Pa (kg/(m*s**2))\n",
        "mapdl.mp(\"DENS\", 1, 7800)  # Density in kg/m3\n",
        "mapdl.mp(\"NUXY\", 1, 0.3)  # Poisson's Ratio"
      ]
    },
    {
      "cell_type": "markdown",
      "metadata": {},
      "source": [
        "# Mesh Generation\n",
        "\n",
        "Let\\'s finally split the domain:\n"
      ]
    },
    {
      "cell_type": "code",
      "execution_count": null,
      "metadata": {
        "collapsed": false
      },
      "outputs": [],
      "source": [
        "maximum_element_size = 1 / 10\n",
        "mapdl.esize(maximum_element_size)\n",
        "\n",
        "_ = mapdl.vmesh(\"all\")  # Mesh"
      ]
    },
    {
      "cell_type": "markdown",
      "metadata": {},
      "source": [
        "Let\\'s check the results:\n"
      ]
    },
    {
      "cell_type": "code",
      "execution_count": null,
      "metadata": {
        "collapsed": false
      },
      "outputs": [],
      "source": [
        "mapdl.eplot()"
      ]
    },
    {
      "cell_type": "markdown",
      "metadata": {},
      "source": [
        "# Boundary Conditions Definition\n",
        "\n",
        "Let\\'s fix the nodes at the origin to not move.\n"
      ]
    },
    {
      "cell_type": "code",
      "execution_count": null,
      "metadata": {
        "collapsed": false
      },
      "outputs": [],
      "source": [
        "mapdl.nsel(\"s\", \"loc\", \"z\", 0)\n",
        "mapdl.d(\"all\", \"all\", 0)"
      ]
    },
    {
      "cell_type": "markdown",
      "metadata": {},
      "source": [
        "# Wind Excitation\n",
        "\n",
        "Let\\'s apply an excitation to our wing. However, we don\\'t really know\n",
        "what wind speed to apply, so let\\'s pull some online data first.\n",
        "\n",
        "We are going to retrieve some data from NASA regarding the wind speed at\n",
        "Ansys Madrid office in Paseo de la Castellana.\n",
        "\n",
        "![Paseo de la Castellana Ansys office (Madrid). Yes, we love\n",
        "coffee.](../images/office1.jpg)\n",
        "\n",
        "From: <https://power.larc.nasa.gov/data-access-viewer/>\n"
      ]
    },
    {
      "cell_type": "code",
      "execution_count": null,
      "metadata": {
        "collapsed": false
      },
      "outputs": [],
      "source": [
        "import json\n",
        "\n",
        "import pandas as pd\n",
        "import requests\n",
        "\n",
        "latitude, longitude = (40.447488, -3.691763)\n",
        "parameters = [\"T2M_MAX\", \"T2M_MIN\"]\n",
        "\n",
        "base_url = r\"https://power.larc.nasa.gov/api/temporal/daily/point?parameters={parameters}&community=RE&longitude={longitude}&latitude={latitude}&start=20200101&end=20210305&format=JSON\"\n",
        "api_request_url = base_url.format(\n",
        "    longitude=longitude, latitude=latitude, parameters=\",\".join(parameters)\n",
        ")  # Another way to format f-strings!\n",
        "\n",
        "response = requests.get(url=api_request_url, verify=True, timeout=30.00)\n",
        "\n",
        "content = json.loads(response.content.decode(\"utf-8\"))\n",
        "df = pd.DataFrame(content[\"properties\"][\"parameter\"])\n",
        "\n",
        "df.columns = [\"MAX\", \"MIN\"]  # renaming columns\n",
        "df = df.set_index(\n",
        "    pd.to_datetime(df.index, format=\"%Y%m%d\")\n",
        ")  # Formatting dataframe index as date."
      ]
    },
    {
      "cell_type": "markdown",
      "metadata": {},
      "source": [
        "Let\\'s see the data\n"
      ]
    },
    {
      "cell_type": "code",
      "execution_count": null,
      "metadata": {
        "collapsed": false
      },
      "outputs": [],
      "source": [
        "df.head()"
      ]
    },
    {
      "cell_type": "markdown",
      "metadata": {},
      "source": [
        "and describe it\\...\n"
      ]
    },
    {
      "cell_type": "code",
      "execution_count": null,
      "metadata": {
        "collapsed": false
      },
      "outputs": [],
      "source": [
        "df.describe()"
      ]
    },
    {
      "cell_type": "markdown",
      "metadata": {},
      "source": [
        "We see there are negative wind speed, probably because of the direction,\n",
        "since we are not interested in direction, only magnitude, let\\'s use the\n",
        "absolute value then.\n"
      ]
    },
    {
      "cell_type": "code",
      "execution_count": null,
      "metadata": {
        "collapsed": false
      },
      "outputs": [],
      "source": [
        "df = df.abs()"
      ]
    },
    {
      "cell_type": "markdown",
      "metadata": {},
      "source": [
        "Let\\'s plot it\\...\n"
      ]
    },
    {
      "cell_type": "code",
      "execution_count": null,
      "metadata": {
        "collapsed": false
      },
      "outputs": [],
      "source": [
        "_ = df.plot(title=\"Wind speed per day\")"
      ]
    },
    {
      "cell_type": "markdown",
      "metadata": {},
      "source": [
        "As we can see, the most frequent maximum speeds are:\n"
      ]
    },
    {
      "cell_type": "code",
      "execution_count": null,
      "metadata": {
        "collapsed": false
      },
      "outputs": [],
      "source": [
        "_ = df[\"MAX\"].hist(bins=20)"
      ]
    },
    {
      "cell_type": "markdown",
      "metadata": {},
      "source": [
        "As we can see, we could stablish there are two main peaks, one at 15 m/s\n",
        "and another at 33 m/s.\n",
        "\n",
        "Let\\'s generate some random wind signal with those speeds. We are going\n",
        "to do a superposition of harmonics:\n"
      ]
    },
    {
      "cell_type": "code",
      "execution_count": null,
      "metadata": {
        "collapsed": false
      },
      "outputs": [],
      "source": [
        "amplitude = [15, 33]\n",
        "frequencies = (\n",
        "    np.array([10, 16]) * 2 * np.pi\n",
        ")  # Typical wind frequencies range between 2 and 20 Hz\n",
        "phase = np.random.random(size=len(frequencies)) * 2 * np.pi\n",
        "\n",
        "\n",
        "def wind_speed(t):\n",
        "    sum_ = 0\n",
        "    for each_amp, each_w, each_phase in zip(amplitude, frequencies, phase):\n",
        "        sum_ = sum_ + each_amp * np.cos(each_w * t + each_phase)\n",
        "    return sum_\n",
        "\n",
        "\n",
        "t = np.arange(0, 1, 0.01)\n",
        "\n",
        "plt.plot(t, wind_speed(t))\n",
        "plt.show()"
      ]
    },
    {
      "cell_type": "markdown",
      "metadata": {},
      "source": [
        "To apply these velocities, we are going instead to convert it to\n",
        "acceleration using the following equation:\n",
        "\n",
        "$$a = \\omega * v$$\n",
        "\n",
        "where:\n",
        "\n",
        "-   `a` is acceleration\n",
        "-   `w` is frequency\n",
        "-   `v` is velocity\n"
      ]
    },
    {
      "cell_type": "code",
      "execution_count": null,
      "metadata": {
        "collapsed": false
      },
      "outputs": [],
      "source": [
        "def acceleration(t):\n",
        "    sum_ = 0\n",
        "    for each_amp, each_w, each_phase in zip(amplitude, frequencies, phase):\n",
        "        sum_ = sum_ + each_amp * each_w * np.cos(each_w * t + each_phase)\n",
        "    return sum_\n",
        "\n",
        "\n",
        "plt.plot(t, acceleration(t))\n",
        "plt.show()"
      ]
    },
    {
      "cell_type": "markdown",
      "metadata": {},
      "source": [
        "Now let\\'s use that in our analysis We are going to apply a global\n",
        "acceleration using `mapdl.acce`.\n"
      ]
    },
    {
      "cell_type": "code",
      "execution_count": null,
      "metadata": {
        "collapsed": false
      },
      "outputs": [],
      "source": [
        "help(mapdl.acel)"
      ]
    },
    {
      "cell_type": "markdown",
      "metadata": {},
      "source": [
        "# Model solution\n"
      ]
    },
    {
      "cell_type": "code",
      "execution_count": null,
      "metadata": {
        "collapsed": false
      },
      "outputs": [],
      "source": [
        "mapdl.slashsolu()\n",
        "mapdl.allsel()  # making sure all nodes and elements are selected.\n",
        "mapdl.antype(\"TRANS\")\n",
        "mapdl.nsubst(carry=\"ON\")\n",
        "\n",
        "accelerations = acceleration(t)\n",
        "\n",
        "for each_time, each_acceleration in zip(t[1:], accelerations):\n",
        "    mapdl.time(each_time)\n",
        "    mapdl.acel(acel_y=each_acceleration)\n",
        "    mapdl.solve()"
      ]
    },
    {
      "cell_type": "markdown",
      "metadata": {},
      "source": [
        "# Post-processing\n",
        "\n",
        "Let\\'s see what we got. Let\\'s print the displacements for the first\n",
        "step.\n"
      ]
    },
    {
      "cell_type": "code",
      "execution_count": null,
      "metadata": {
        "collapsed": false
      },
      "outputs": [],
      "source": [
        "mapdl.post1()\n",
        "mapdl.set(1, 1)\n",
        "mapdl.post_processing.nodal_displacement(\"all\")"
      ]
    },
    {
      "cell_type": "markdown",
      "metadata": {},
      "source": [
        "and let\\'s plot them\n"
      ]
    },
    {
      "cell_type": "code",
      "execution_count": null,
      "metadata": {
        "collapsed": false
      },
      "outputs": [],
      "source": [
        "mapdl.post_processing.plot_nodal_displacement(\"y\")"
      ]
    },
    {
      "cell_type": "markdown",
      "metadata": {},
      "source": [
        "We can follow this approach to get the results at each step\n",
        "\n",
        "For example let\\'s get the maximum principal stresses and where it\n",
        "happens:\n"
      ]
    },
    {
      "cell_type": "code",
      "execution_count": null,
      "metadata": {
        "collapsed": false
      },
      "outputs": [],
      "source": [
        "i = 0\n",
        "max_stress_per_step = []\n",
        "elem_max_stress_per_step = []\n",
        "\n",
        "for step in mapdl.post_processing.time_values:\n",
        "    i += 1\n",
        "    mapdl.set(i)\n",
        "    stresses = mapdl.post_processing.element_stress(\"1\")  # First principal stresses\n",
        "    max_stress_per_step.append(stresses.max())\n",
        "    elem_max_stress_per_step.append(stresses.argmax())\n",
        "\n",
        "max_stress_per_step = np.array(max_stress_per_step)\n",
        "elem_max_stress_per_step = np.array(elem_max_stress_per_step)\n",
        "\n",
        "elem_ = mapdl.mesh.enum[elem_max_stress_per_step[max_stress_per_step.argmax()]]\n",
        "time_ = mapdl.post_processing.time_values[max_stress_per_step.argmax()]\n",
        "\n",
        "print(\n",
        "    f\"The maximum principal stress\\n\\tValue: {max_stress_per_step.max():0.2f} Pascals.\"\n",
        ")\n",
        "print(f\"\\tAt the element {elem_}.\")\n",
        "print(f\"\\tAt the time {time_}.\")"
      ]
    },
    {
      "cell_type": "markdown",
      "metadata": {},
      "source": [
        "# Post-processing time dependent results\n",
        "\n",
        "Let\\'s now check the displacement across time for a node in the tip\n",
        "\n",
        "We can get the nodes max and min coordenates as:\n"
      ]
    },
    {
      "cell_type": "code",
      "execution_count": null,
      "metadata": {
        "collapsed": false
      },
      "outputs": [],
      "source": [
        "mapdl.post26()\n",
        "\n",
        "nod_max = mapdl.mesh.nodes.max(axis=0)\n",
        "nod_min = mapdl.mesh.nodes.min(axis=0)\n",
        "\n",
        "coord_node = (nod_max[0] + nod_min[0]) / 2, (nod_max[1] + nod_min[1]) / 2, nod_max[2]\n",
        "\n",
        "node = mapdl.queries.node(*coord_node)"
      ]
    },
    {
      "cell_type": "markdown",
      "metadata": {},
      "source": [
        "Getting the displacement at the tip\n"
      ]
    },
    {
      "cell_type": "code",
      "execution_count": null,
      "metadata": {
        "collapsed": false
      },
      "outputs": [],
      "source": [
        "item = \"U\"\n",
        "comp = \"Y\"\n",
        "nvar = 9\n",
        "\n",
        "# node_uy = mapdl.get_nsol(node, item, comp)  # Available in 0.62.3\n",
        "mapdl.nsol(nvar, node, item, comp)\n",
        "mapdl.vget(\"temp_\", nvar)\n",
        "\n",
        "node_uy = mapdl.parameters[\"temp_\"]\n",
        "time = mapdl.post_processing.time_values\n",
        "\n",
        "plt.plot(time, node_uy)\n",
        "plt.title(\"Displacement across time at the tip\")\n",
        "plt.show()"
      ]
    },
    {
      "cell_type": "markdown",
      "metadata": {},
      "source": [
        "# Closing session\n",
        "\n",
        "Thank you all for your time and attention!\n"
      ]
    },
    {
      "cell_type": "code",
      "execution_count": null,
      "metadata": {
        "collapsed": false
      },
      "outputs": [],
      "source": [
        "mapdl.exit()"
      ]
    }
  ],
  "metadata": {
    "kernelspec": {
      "display_name": "Python 3",
      "language": "python",
      "name": "python3"
    },
    "language_info": {
      "codemirror_mode": {
        "name": "ipython",
        "version": 3
      },
      "file_extension": ".py",
      "mimetype": "text/x-python",
      "name": "python",
      "nbconvert_exporter": "python",
      "pygments_lexer": "ipython3",
      "version": "3.9.13"
    }
  },
  "nbformat": 4,
  "nbformat_minor": 0
}
