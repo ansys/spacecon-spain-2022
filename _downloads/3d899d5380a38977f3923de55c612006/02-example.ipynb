{
  "cells": [
    {
      "cell_type": "code",
      "execution_count": null,
      "metadata": {
        "collapsed": false
      },
      "outputs": [],
      "source": [
        "%matplotlib inline"
      ]
    },
    {
      "cell_type": "markdown",
      "metadata": {},
      "source": [
        "A full PyMAPDL example {#ref_example}\n======================\n\nLet\\'s see a full PyMAPDL example!\n\nWe will reuse some of the code we used to plot the section of a NACA\nairfoil. With this section we will create a simple and straight wing\nwhere we will apply some constrains and loads.\n\nThe idea is you can have an idea on how to use PyMAPDL together with\nother Python libraries for your own purposes (TFG? TFM? PhD?)\n"
      ]
    },
    {
      "cell_type": "markdown",
      "metadata": {},
      "source": [
        "Setting up the environment\n==========================\n\nFirst, let\\'s do some imports\n"
      ]
    },
    {
      "cell_type": "code",
      "execution_count": null,
      "metadata": {
        "collapsed": false
      },
      "outputs": [],
      "source": [
        "from matplotlib import pyplot as plt\nimport numpy as np\n\nfrom ansys.mapdl.core import launch_mapdl"
      ]
    },
    {
      "cell_type": "markdown",
      "metadata": {},
      "source": [
        "and let\\'s launch PyMAPDL.\n"
      ]
    },
    {
      "cell_type": "code",
      "execution_count": null,
      "metadata": {
        "collapsed": false
      },
      "outputs": [],
      "source": [
        "mapdl = launch_mapdl()\nmapdl.prep7()"
      ]
    },
    {
      "cell_type": "markdown",
      "metadata": {},
      "source": [
        "Geometry definition\n===================\n\nIn the previous part of the talk we showed how to use some Python\nfunctions to plot a NACA airfoil. Here we will reuse those functions to\ngenerate the same section inside PyMAPDL.\n"
      ]
    },
    {
      "cell_type": "code",
      "execution_count": null,
      "metadata": {
        "collapsed": false
      },
      "outputs": [],
      "source": [
        "# Helper functions\ndef camber_line(x, m, p, c):\n    return np.where(\n        (x >= 0) & (x <= (c * p)),\n        m * (x / np.power(p, 2)) * (2.0 * p - (x / c)),\n        m * ((c - x) / np.power(1 - p, 2)) * (1.0 + (x / c) - 2.0 * p),\n    )\n\n\ndef dyc_over_dx(x, m, p, c):\n    return np.where(\n        (x >= 0) & (x <= (c * p)),\n        ((2.0 * m) / np.power(p, 2)) * (p - x / c),\n        ((2.0 * m) / np.power(1 - p, 2)) * (p - x / c),\n    )\n\n\ndef thickness(x, t, c):\n    term1 = 0.2969 * (np.sqrt(x / c))\n    term2 = -0.1260 * (x / c)\n    term3 = -0.3516 * np.power(x / c, 2)\n    term4 = 0.2843 * np.power(x / c, 3)\n    term5 = -0.1015 * np.power(x / c, 4)\n    return 5 * t * c * (term1 + term2 + term3 + term4 + term5)\n\n\ndef naca4(x, m, p, t, c=1):\n    dyc_dx = dyc_over_dx(x, m, p, c)\n    th = np.arctan(dyc_dx)\n    yt = thickness(x, t, c)\n    yc = camber_line(x, m, p, c)\n\n    # We are tuning a bit the output of this function to facilitate later processing.\n    x = x - yt * np.sin(th)\n    x = np.concatenate((x, x + yt * np.sin(th)), axis=0)\n\n    y = yc + yt * np.cos(th)\n    y = np.concatenate((y, yc - yt * np.cos(th)), axis=0)\n    return x, y"
      ]
    },
    {
      "cell_type": "markdown",
      "metadata": {},
      "source": [
        "NACA Parameters for naca2412\n"
      ]
    },
    {
      "cell_type": "code",
      "execution_count": null,
      "metadata": {
        "collapsed": false
      },
      "outputs": [],
      "source": [
        "m = 0.02\np = 0.4\nt = 0.12\nc = 1.0"
      ]
    },
    {
      "cell_type": "markdown",
      "metadata": {},
      "source": [
        "Generating NACA points for the section.\n"
      ]
    },
    {
      "cell_type": "code",
      "execution_count": null,
      "metadata": {
        "collapsed": false
      },
      "outputs": [],
      "source": [
        "npoints = 50  # Increase this number to increase smoothness.\nx_ = np.linspace(0, 1, npoints)\nx, y = naca4(x_, m, p, t, c)"
      ]
    },
    {
      "cell_type": "markdown",
      "metadata": {},
      "source": [
        "Generating keypoints\n====================\n"
      ]
    },
    {
      "cell_type": "code",
      "execution_count": null,
      "metadata": {
        "collapsed": false
      },
      "outputs": [],
      "source": [
        "mapdl.clear()\nmapdl.prep7()\n\nfor each_x, each_y in zip(x, y):\n    mapdl.k(\"\", each_x, each_y)"
      ]
    },
    {
      "cell_type": "markdown",
      "metadata": {},
      "source": [
        "Checking results\n"
      ]
    },
    {
      "cell_type": "code",
      "execution_count": null,
      "metadata": {
        "collapsed": false
      },
      "outputs": [],
      "source": [
        "mapdl.kplot()"
      ]
    },
    {
      "cell_type": "markdown",
      "metadata": {},
      "source": [
        "Generate lines from the points\n==============================\n\nBecause of the helper functions give us two points per x-coordenate, we\nneed to join those points in two times:\n"
      ]
    },
    {
      "cell_type": "code",
      "execution_count": null,
      "metadata": {
        "collapsed": false
      },
      "outputs": [],
      "source": [
        "half = len(mapdl.geometry.knum) // 2\n\n# Upper half points\nfor kp in mapdl.geometry.knum[: half - 1]:\n    mapdl.l(kp, kp + 1)\n\n# Lower half points\nfor kp in mapdl.geometry.knum[half + 1 : -1]:\n    mapdl.l(kp, kp + 1)"
      ]
    },
    {
      "cell_type": "markdown",
      "metadata": {},
      "source": [
        "Closing the section\n"
      ]
    },
    {
      "cell_type": "code",
      "execution_count": null,
      "metadata": {
        "collapsed": false
      },
      "outputs": [],
      "source": [
        "mapdl.l(1, half + 2)\nmapdl.l(half, mapdl.geometry.knum[-1])\n\nmapdl.nummrg(\"kp\", 0.1)  # Remove duplicate keypoints if any"
      ]
    },
    {
      "cell_type": "markdown",
      "metadata": {},
      "source": [
        "Let\\'s check the results\n"
      ]
    },
    {
      "cell_type": "code",
      "execution_count": null,
      "metadata": {
        "collapsed": false
      },
      "outputs": [],
      "source": [
        "mapdl.lplot()"
      ]
    },
    {
      "cell_type": "markdown",
      "metadata": {},
      "source": [
        "Create section area\n===================\n\nLet\\'s create an area from those lines:\n"
      ]
    },
    {
      "cell_type": "code",
      "execution_count": null,
      "metadata": {
        "collapsed": false
      },
      "outputs": [],
      "source": [
        "mapdl.lsel(\"all\")\nmapdl.al(\"all\")"
      ]
    },
    {
      "cell_type": "markdown",
      "metadata": {},
      "source": [
        "Create volume from extruding the area\n=====================================\n\nWe are going to use the command `mapdl.vdrag` to create a volume by\ndragging an area along a line.\n"
      ]
    },
    {
      "cell_type": "code",
      "execution_count": null,
      "metadata": {
        "collapsed": false
      },
      "outputs": [],
      "source": [
        "help(mapdl.vdrag)"
      ]
    },
    {
      "cell_type": "markdown",
      "metadata": {},
      "source": [
        "First, let\\'s define the lince we are going to use to drag the area\nalong.\n"
      ]
    },
    {
      "cell_type": "code",
      "execution_count": null,
      "metadata": {
        "collapsed": false
      },
      "outputs": [],
      "source": [
        "lenght_wing = 4  # [m] MAPDL is unit agnostic.\n\nk0 = mapdl.k(\"\", 0, 0, 0)\nkz = mapdl.k(\"\", 0, 0, lenght_wing)\n\nldrag = mapdl.l(k0, kz)"
      ]
    },
    {
      "cell_type": "markdown",
      "metadata": {},
      "source": [
        "Create the volume\n"
      ]
    },
    {
      "cell_type": "code",
      "execution_count": null,
      "metadata": {
        "collapsed": false
      },
      "outputs": [],
      "source": [
        "vol0 = mapdl.vdrag(\"all\", nlp1=ldrag)"
      ]
    },
    {
      "cell_type": "markdown",
      "metadata": {},
      "source": [
        "Let\\'s check the results\n"
      ]
    },
    {
      "cell_type": "code",
      "execution_count": null,
      "metadata": {
        "collapsed": false
      },
      "outputs": [],
      "source": [
        "mapdl.vplot()"
      ]
    },
    {
      "cell_type": "markdown",
      "metadata": {},
      "source": [
        "Finite element definition\n=========================\n\nAs you all know, finite element approaches split the domains into\n\\\"finite elements\\\" where you solve your equations in their quadrature\npoints. Therefore, we need to define how that domain split is going to\nbe perform, aka \\\"choosing element type\\\".\n"
      ]
    },
    {
      "cell_type": "code",
      "execution_count": null,
      "metadata": {
        "collapsed": false
      },
      "outputs": [],
      "source": [
        "# Defining element type\nmapdl.et(1, \"SOLID187\")"
      ]
    },
    {
      "cell_type": "markdown",
      "metadata": {},
      "source": [
        "Here we could also define other element options using the `mapdl.keyopt`\ncommand.\n"
      ]
    },
    {
      "cell_type": "markdown",
      "metadata": {},
      "source": [
        "Material definition\n===================\n\nLet\\'s define the material our wing is made off. We are going to choose\nsteel in its simplest configuration (elastic linear material). But you\ncould define other parameters (plasticity, fatige, viscoelasticity,\netc).\n"
      ]
    },
    {
      "cell_type": "code",
      "execution_count": null,
      "metadata": {
        "collapsed": false
      },
      "outputs": [],
      "source": [
        "# Define a material (nominal steel in SI)\nmapdl.mp(\"EX\", 1, 210e9)  # Elastic moduli in Pa (kg/(m*s**2))\nmapdl.mp(\"DENS\", 1, 7800)  # Density in kg/m3\nmapdl.mp(\"NUXY\", 1, 0.3)  # Poisson's Ratio"
      ]
    },
    {
      "cell_type": "markdown",
      "metadata": {},
      "source": [
        "Mesh Generation\n===============\n\nLet\\'s finally split the domain:\n"
      ]
    },
    {
      "cell_type": "code",
      "execution_count": null,
      "metadata": {
        "collapsed": false
      },
      "outputs": [],
      "source": [
        "maximum_element_size = 1 / 20\nmapdl.esize(maximum_element_size)\n\nmapdl.vmesh(\"all\")  # Mesh"
      ]
    },
    {
      "cell_type": "markdown",
      "metadata": {},
      "source": [
        "Let\\'s check the results:\n"
      ]
    },
    {
      "cell_type": "code",
      "execution_count": null,
      "metadata": {
        "collapsed": false
      },
      "outputs": [],
      "source": [
        "mapdl.eplot()"
      ]
    },
    {
      "cell_type": "markdown",
      "metadata": {},
      "source": [
        "Boundary Conditions Definition\n==============================\n\nLet\\'s fix the nodes at the origin to not move.\n"
      ]
    },
    {
      "cell_type": "code",
      "execution_count": null,
      "metadata": {
        "collapsed": false
      },
      "outputs": [],
      "source": [
        "mapdl.nsel(\"s\", \"loc\", \"z\", 0)\nmapdl.d(\"all\", \"all\", 0)"
      ]
    },
    {
      "cell_type": "markdown",
      "metadata": {},
      "source": [
        "Wind Excitation\n===============\n\nLet\\'s apply a wind excitation.\n\nHowever, we don\\'t really know what wind apply, so let\\'s pull some\nonline data first. Use\n\nFrom: <https://power.larc.nasa.gov/data-access-viewer/>\n"
      ]
    },
    {
      "cell_type": "code",
      "execution_count": null,
      "metadata": {
        "collapsed": false
      },
      "outputs": [],
      "source": [
        "import json\n\nimport pandas as pd\nimport requests\n\nlatitude, longitude = (40.447488, -3.691763)\nparameters = [\"T2M_MAX\", \"T2M_MIN\"]\n\nbase_url = r\"https://power.larc.nasa.gov/api/temporal/daily/point?parameters={parameters}&community=RE&longitude={longitude}&latitude={latitude}&start=20200101&end=20210305&format=JSON\"\napi_request_url = base_url.format(\n    longitude=longitude, latitude=latitude, parameters=\",\".join(parameters)\n)  # Another way to format f-strings!\n\nresponse = requests.get(url=api_request_url, verify=True, timeout=30.00)\n\ncontent = json.loads(response.content.decode(\"utf-8\"))\ndf = pd.DataFrame(content[\"properties\"][\"parameter\"])\n\ndf = df.set_index(\n    pd.to_datetime(df.index, format=\"%Y%m%d\")\n)  # Formatting dataframe index as date."
      ]
    },
    {
      "cell_type": "markdown",
      "metadata": {},
      "source": [
        "Let\\'s see the data\n"
      ]
    },
    {
      "cell_type": "code",
      "execution_count": null,
      "metadata": {
        "collapsed": false
      },
      "outputs": [],
      "source": [
        "df.head()"
      ]
    },
    {
      "cell_type": "markdown",
      "metadata": {},
      "source": [
        "and describe it\\...\n"
      ]
    },
    {
      "cell_type": "code",
      "execution_count": null,
      "metadata": {
        "collapsed": false
      },
      "outputs": [],
      "source": [
        "df.describe()"
      ]
    },
    {
      "cell_type": "markdown",
      "metadata": {},
      "source": [
        "Let\\'s plot it\\...\n"
      ]
    },
    {
      "cell_type": "code",
      "execution_count": null,
      "metadata": {
        "collapsed": false
      },
      "outputs": [],
      "source": [
        "df.plot(title=\"Wind speed per day\")\n\nTotal_time_sample = 60  # [s]\nAmplitude = [10]  # 30, 80, 200]\nfrequencies = [10, 16, 27, 34]\nphase = np.random.random(size=len(frequencies)) * 2 * np.pi\n\n\ndef wind_speed(t):\n    # https://www.jstage.jst.go.jp/article/jsmeb/47/2/47_2_378/_pdf\n    sum_ = 0\n    for each_amp, each_w, each_phase in zip(Amplitude, frequencies, phase):\n        sum_ = sum_ + np.sqrt((2 * each_amp) / Total_time_sample) * np.cos(\n            each_w * t + each_phase\n        )\n    return sum_\n\n\nt = np.arange(0, 60, 0.1)\n\nplt.plot(t, wind_speed(t))\nplt.show()\n\nmapdl.nsel(\"s\", \"loc\", \"z\", 4)\nmapdl.d(\"all\", \"ux\", 0.01)"
      ]
    },
    {
      "cell_type": "markdown",
      "metadata": {},
      "source": [
        "Model solution\n==============\n"
      ]
    },
    {
      "cell_type": "code",
      "execution_count": null,
      "metadata": {
        "collapsed": false
      },
      "outputs": [],
      "source": [
        "mapdl.slashsolu()\nmapdl.allsel()  # making sure all nodes and elements are selected.\nmapdl.antype(\"STATIC\")\noutput = mapdl.solve()\nprint(output)"
      ]
    },
    {
      "cell_type": "markdown",
      "metadata": {},
      "source": [
        "Post-processing\n===============\n\nLet\\'s see what we got. Let\\'s print the displacements:\n"
      ]
    },
    {
      "cell_type": "code",
      "execution_count": null,
      "metadata": {
        "collapsed": false
      },
      "outputs": [],
      "source": [
        "mapdl.post_processing.nodal_displacement(\"all\")"
      ]
    },
    {
      "cell_type": "markdown",
      "metadata": {},
      "source": [
        "and let\\'s plot them\n"
      ]
    },
    {
      "cell_type": "code",
      "execution_count": null,
      "metadata": {
        "collapsed": false
      },
      "outputs": [],
      "source": [
        "mapdl.post_processing.plot_nodal_displacement(\"x\")"
      ]
    },
    {
      "cell_type": "markdown",
      "metadata": {},
      "source": [
        "Closing session\n===============\n\nThank you all for your time and attention!\n"
      ]
    },
    {
      "cell_type": "code",
      "execution_count": null,
      "metadata": {
        "collapsed": false
      },
      "outputs": [],
      "source": [
        "mapdl.exit()"
      ]
    }
  ],
  "metadata": {
    "kernelspec": {
      "display_name": "Python 3",
      "language": "python",
      "name": "python3"
    },
    "language_info": {
      "codemirror_mode": {
        "name": "ipython",
        "version": 3
      },
      "file_extension": ".py",
      "mimetype": "text/x-python",
      "name": "python",
      "nbconvert_exporter": "python",
      "pygments_lexer": "ipython3",
      "version": "3.8.14"
    }
  },
  "nbformat": 4,
  "nbformat_minor": 0
}