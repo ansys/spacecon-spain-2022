{
  "cells": [
    {
      "cell_type": "code",
      "execution_count": null,
      "metadata": {
        "collapsed": false
      },
      "outputs": [],
      "source": [
        "%matplotlib inline"
      ]
    },
    {
      "cell_type": "markdown",
      "metadata": {},
      "source": [
        "Short Python Tutorial {#ref_python_tutorial}\n=====================\n\nIn this tutorial, we will introduce very briefly what is Python and how\nto use it.\n"
      ]
    },
    {
      "cell_type": "markdown",
      "metadata": {},
      "source": [
        "But first\\...\n"
      ]
    },
    {
      "cell_type": "markdown",
      "metadata": {},
      "source": [
        "What is PyMAPDL?\n================\n\nPyMAPDL is the pythonic interface for Ansys MAPDL product.\n"
      ]
    },
    {
      "cell_type": "markdown",
      "metadata": {},
      "source": [
        "**What does this mean?**\n\nIt means that you can call Ansys products (Solvers, Post processing\ntools, etc) using Python programming language.\n"
      ]
    },
    {
      "cell_type": "markdown",
      "metadata": {},
      "source": [
        "What is python?\n===============\n\nPython is \\#TODO: TO FILL\n"
      ]
    },
    {
      "cell_type": "markdown",
      "metadata": {},
      "source": [
        "Introduction to Python\n======================\n\nStoring variables.\n"
      ]
    },
    {
      "cell_type": "code",
      "execution_count": null,
      "metadata": {
        "collapsed": false
      },
      "outputs": [],
      "source": [
        "mystring = \"text\"\nmyotherstring = \"text\"\nmyfloat = 2.2\nmyint = 2\nmybool = (\n    True  # True and False are reserved keywords. As well as for, in, as and some more.\n)"
      ]
    },
    {
      "cell_type": "markdown",
      "metadata": {},
      "source": [
        "There are functions such as `print` or `help` which can be called as:\n"
      ]
    },
    {
      "cell_type": "code",
      "execution_count": null,
      "metadata": {
        "collapsed": false
      },
      "outputs": [],
      "source": [
        "print(\"Hello Madrid!\")  # You can call functions using parenthesis\n\nhelp(print)"
      ]
    },
    {
      "cell_type": "markdown",
      "metadata": {},
      "source": [
        "There are other more complex structures such as list, tuples, dicts, etc\n"
      ]
    },
    {
      "cell_type": "code",
      "execution_count": null,
      "metadata": {
        "collapsed": false
      },
      "outputs": [],
      "source": [
        "mylist = [1, 2.2, \"asdf\"]\nprint(mylist[0])  # Python is zero based indexing!\n\nmytuple = (1, 2.5, \"qwer\")\nprint(mytuple[2])  # Indexing in python is done using square brackets `[]`"
      ]
    },
    {
      "cell_type": "markdown",
      "metadata": {},
      "source": [
        "This is a dict which does a mapping between its keys and values.\n"
      ]
    },
    {
      "cell_type": "code",
      "execution_count": null,
      "metadata": {
        "collapsed": false
      },
      "outputs": [],
      "source": [
        "mydict = {\"a\": 1, \"b\": 2, \"c\": 3}\n# keys are the leters, but it could be anything\n# values are the numbers, but it could be anything!\n\nprint(mydict[\"c\"])"
      ]
    },
    {
      "cell_type": "markdown",
      "metadata": {},
      "source": [
        "Control flow in Python\n======================\n\nYou can do conditionals (`if`) as the following:\n"
      ]
    },
    {
      "cell_type": "code",
      "execution_count": null,
      "metadata": {
        "collapsed": false
      },
      "outputs": [],
      "source": [
        "my_int = 2\n\nif myint > 5:\n    print(\"My int is bigger than 5!\")\nelif myint > 2:\n    print(\"My int is bigger than 2!\")\nelse:\n    print(\"Any other case\")\n\nif mybool:\n    print(\"Because 'mybool' is True, I'm showing you this.\")\n\nif mystring == myotherstring:  # \"text\" == 'text'\n    print(\"Although we used different quotes, they are the same!\")"
      ]
    },
    {
      "cell_type": "markdown",
      "metadata": {},
      "source": [
        "Loops in python\n===============\n\nLoops in Python can be done as:\n"
      ]
    },
    {
      "cell_type": "code",
      "execution_count": null,
      "metadata": {
        "collapsed": false
      },
      "outputs": [],
      "source": [
        "for i in [1, 2, 3]:\n    print(i)"
      ]
    },
    {
      "cell_type": "markdown",
      "metadata": {},
      "source": [
        "or\n"
      ]
    },
    {
      "cell_type": "code",
      "execution_count": null,
      "metadata": {
        "collapsed": false
      },
      "outputs": [],
      "source": [
        "for i in range(0, 5):\n    print(i)"
      ]
    },
    {
      "cell_type": "markdown",
      "metadata": {},
      "source": [
        "there is also \\'while\\' loops\n"
      ]
    },
    {
      "cell_type": "code",
      "execution_count": null,
      "metadata": {
        "collapsed": false
      },
      "outputs": [],
      "source": [
        "i = 0\nwhile i < 5:\n    print(i)\n    i = i + 1"
      ]
    },
    {
      "cell_type": "markdown",
      "metadata": {},
      "source": [
        "You can \\\"break\\\" loops using the keyword `break`\n"
      ]
    },
    {
      "cell_type": "code",
      "execution_count": null,
      "metadata": {
        "collapsed": false
      },
      "outputs": [],
      "source": [
        "i = 0\nj = 0\nwhile i < 10:\n    print(i, j)\n    i += 1  # Convenient way to express: i = i + 1\n    j += 2\n\n    if j > 5:  # early exit\n        print(\"Exiting early!\")\n        break"
      ]
    },
    {
      "cell_type": "markdown",
      "metadata": {},
      "source": [
        "Importing other libraries\n=========================\n\nYou can also import other libraries that expand Python functionalities\nby providing more data structures, functions and/or classes.\n"
      ]
    },
    {
      "cell_type": "code",
      "execution_count": null,
      "metadata": {
        "collapsed": false
      },
      "outputs": [],
      "source": [
        "import os  # for Operative system operations related\n\nprint(os.name)  # OS name: nt or linux"
      ]
    },
    {
      "cell_type": "markdown",
      "metadata": {},
      "source": [
        "You can also import modules/functions from libraries\n"
      ]
    },
    {
      "cell_type": "code",
      "execution_count": null,
      "metadata": {
        "collapsed": false
      },
      "outputs": [],
      "source": [
        "from os.path import exists\n\nexists(\"myfile.txt\")  # Check if file 'myfile.txt' exists or not. Should show False"
      ]
    },
    {
      "cell_type": "markdown",
      "metadata": {},
      "source": [
        "You can import a library giving it another name\n"
      ]
    },
    {
      "cell_type": "code",
      "execution_count": null,
      "metadata": {
        "collapsed": false
      },
      "outputs": [],
      "source": [
        "import math as mm  # Built in math library\n\nprint(mm.sqrt(2))"
      ]
    },
    {
      "cell_type": "markdown",
      "metadata": {},
      "source": [
        "Numpy and Matplotlib\n====================\n\nSome of the most used Python libraries are: Numpy and Matplotlib. The\nfirst one is for numerical calculations and the second is for plotting.\n"
      ]
    },
    {
      "cell_type": "code",
      "execution_count": null,
      "metadata": {
        "collapsed": false
      },
      "outputs": [],
      "source": [
        "import numpy as np\n\nmy_array = np.array(\n    [1, 2, 3]\n)  # Arrays are a very convenient and powefull data structure.\n\nprint(my_array * 2)  # element wise operations\n\nprint(my_array.T)  # Transpose\n\n# It doesn't need to be a vector\nmy_matrix = np.array([[1, 3, 4], [4, 5, 6]])  # You store arrays of any shape"
      ]
    },
    {
      "cell_type": "markdown",
      "metadata": {},
      "source": [
        "You can index elements using square brackets:\n"
      ]
    },
    {
      "cell_type": "code",
      "execution_count": null,
      "metadata": {
        "collapsed": false
      },
      "outputs": [],
      "source": [
        "my_matrix[0, 0]  # 1\nmy_matrix[1, 1]  # 5\nmy_matrix[0, :]  # [1, 3, 4]\nmy_matrix[:, 0]  # [1, 4]"
      ]
    },
    {
      "cell_type": "markdown",
      "metadata": {},
      "source": [
        "for plotting you can use matplotlib\n"
      ]
    },
    {
      "cell_type": "code",
      "execution_count": null,
      "metadata": {
        "collapsed": false
      },
      "outputs": [],
      "source": [
        "from matplotlib import pyplot as plt\n\nplt.plot(my_array, my_matrix[1, :], \"r\")\nplt.title(\"My plot!\")\nplt.show()"
      ]
    },
    {
      "cell_type": "markdown",
      "metadata": {},
      "source": [
        "You can do multiple lines at once.\n"
      ]
    },
    {
      "cell_type": "code",
      "execution_count": null,
      "metadata": {
        "collapsed": false
      },
      "outputs": [],
      "source": [
        "plt.plot(my_array, my_matrix[0, :], \"r\", label=\"My red line\")\nplt.plot(my_array, my_matrix[1, :], \"b\", label=\"My blue line\")\nplt.title(\"My fancy plot\")\nplt.legend()\nplt.show()"
      ]
    },
    {
      "cell_type": "markdown",
      "metadata": {},
      "source": [
        "Plotting a NACA airfoil\n=======================\n\n*\\\"Those plots looks rather simple plots\\....\\\"*\n\nOk, let me show you:\n\nReference:\n<https://en.wikipedia.org/wiki/NACA_airfoil#Equation_for_a_cambered_4-digit_NACA_airfoil>\n"
      ]
    },
    {
      "cell_type": "code",
      "execution_count": null,
      "metadata": {
        "collapsed": false
      },
      "outputs": [],
      "source": [
        "# First let define some helper functions.\ndef camber_line(x, m, p, c):\n    return np.where(\n        (x >= 0) & (x <= (c * p)),\n        m * (x / np.power(p, 2)) * (2.0 * p - (x / c)),\n        m * ((c - x) / np.power(1 - p, 2)) * (1.0 + (x / c) - 2.0 * p),\n    )\n\n\ndef dyc_over_dx(x, m, p, c):\n    return np.where(\n        (x >= 0) & (x <= (c * p)),\n        ((2.0 * m) / np.power(p, 2)) * (p - x / c),\n        ((2.0 * m) / np.power(1 - p, 2)) * (p - x / c),\n    )\n\n\ndef thickness(x, t, c):\n    term1 = 0.2969 * (np.sqrt(x / c))\n    term2 = -0.1260 * (x / c)\n    term3 = -0.3516 * np.power(x / c, 2)\n    term4 = 0.2843 * np.power(x / c, 3)\n    term5 = -0.1015 * np.power(x / c, 4)\n    return 5 * t * c * (term1 + term2 + term3 + term4 + term5)\n\n\ndef naca4(x, m, p, t, c=1):\n    dyc_dx = dyc_over_dx(x, m, p, c)\n    th = np.arctan(dyc_dx)\n    yt = thickness(x, t, c)\n    yc = camber_line(x, m, p, c)\n    return (\n        (x - yt * np.sin(th), yc + yt * np.cos(th)),\n        (x + yt * np.sin(th), yc - yt * np.cos(th)),\n    )\n\n\n# NACA Parameters\n# naca2412\nm = 0.02\np = 0.4\nt = 0.12\nc = 1.0\n\nx = np.linspace(0, 1, 200)\nfor item in naca4(x, m, p, t, c):\n    plt.plot(item[0], item[1], \"b\")\n\nplt.plot(x, camber_line(x, m, p, c), \"r\")\nplt.axis(\"equal\")\n_ = plt.xlim((-0.05, 1.05))  # Store dummy values as '_'.\n\n\n# From: https://stackoverflow.com/questions/31815041/plotting-a-naca-4-series-airfoil"
      ]
    },
    {
      "cell_type": "markdown",
      "metadata": {},
      "source": [
        "**Cool stuff uh?**\n"
      ]
    },
    {
      "cell_type": "markdown",
      "metadata": {},
      "source": [
        "Brief Python classes concept\n============================\n\n**What is a class?**\n\nA class is an object in a programming language which \\.... \\#TODO: TO BE\nFILLED.\n\nIn Python everything is objects, and hence they have some methods. For\nexample strings have:\n"
      ]
    },
    {
      "cell_type": "code",
      "execution_count": null,
      "metadata": {
        "collapsed": false
      },
      "outputs": [],
      "source": [
        "mystring.startswith(\"t\")  # True\nmystring.split(\"e\")  # Break the string in a list [\"T\", \"xt\"]"
      ]
    },
    {
      "cell_type": "markdown",
      "metadata": {},
      "source": [
        "You can list the methods of an object using `dir`:\n"
      ]
    },
    {
      "cell_type": "code",
      "execution_count": null,
      "metadata": {
        "collapsed": false
      },
      "outputs": [],
      "source": [
        "print(dir(mystring))  # yes, '__add__' is a string method!"
      ]
    },
    {
      "cell_type": "markdown",
      "metadata": {},
      "source": [
        "You can create your own class and inheritate from them.\n\nPyMAPDL provides you a class which gives you access to all MAPDL\ncommands and more.\n"
      ]
    }
  ],
  "metadata": {
    "kernelspec": {
      "display_name": "Python 3",
      "language": "python",
      "name": "python3"
    },
    "language_info": {
      "codemirror_mode": {
        "name": "ipython",
        "version": 3
      },
      "file_extension": ".py",
      "mimetype": "text/x-python",
      "name": "python",
      "nbconvert_exporter": "python",
      "pygments_lexer": "ipython3",
      "version": "3.8.14"
    }
  },
  "nbformat": 4,
  "nbformat_minor": 0
}