{
  "cells": [
    {
      "cell_type": "code",
      "execution_count": null,
      "metadata": {
        "collapsed": false
      },
      "outputs": [],
      "source": [
        "%matplotlib inline"
      ]
    },
    {
      "cell_type": "markdown",
      "metadata": {},
      "source": [
        "# PyMAPDL Tutorial {#ref_pymapdl_tutorial}\r\n\r\nIn this tutorial, we will introduce some of the capabilities of PyMAPDL\r\napplied to Aerospace students and advocates.\r\n\r\n## Python + Ansys = PyAnsys\r\n\r\nPyAnsys is Ansys effort on making their products accessible using Python\r\nprogramming language.\r\n\r\nToday we will focus on PyMAPDL with is the Python library which exposes\r\nMAPDL (Ansys Structural).\r\n\r\n![](../images/pyansys.png){.align-centeralign-center width=\"600px\"}\r\n\r\n## What is PyMAPDL?\r\n\r\nPyMAPDL is the pythonic interface for Ansys MAPDL product.\r\n\r\n**What does this mean?**\r\n\r\nIt means that you can call Ansys MAPDL functionalities (Solvers, Post\r\nprocessing tools, etc) using Python programming language.\r\n\r\nMAPDL provides many tools and features which would require *A LOT* of\r\ntime to explain, so let\\'s have a quick overview.\r\n"
      ]
    },
    {
      "cell_type": "markdown",
      "metadata": {},
      "source": [
        "# Launching PyMAPDL\r\n\r\nBut first, let\\'s launch PyMAPDL.\r\n"
      ]
    },
    {
      "cell_type": "code",
      "execution_count": null,
      "metadata": {
        "collapsed": false
      },
      "outputs": [],
      "source": [
        "from ansys.mapdl.core import launch_mapdl\n\nmapdl = launch_mapdl()\n\nprint(mapdl)"
      ]
    },
    {
      "cell_type": "markdown",
      "metadata": {},
      "source": [
        "# Geometry\r\n\r\nPyMAPDL support points (keypoints), lines, areas, and volumes for\r\ngeometry definition.\r\n\r\nYou can plot an area using keypoints:\r\n"
      ]
    },
    {
      "cell_type": "code",
      "execution_count": null,
      "metadata": {
        "collapsed": false
      },
      "outputs": [],
      "source": [
        "mapdl.prep7()  # entering in preprocessor for geometry generation\n\nk0 = mapdl.k(\"\", 0, 0, 0)\nk1 = mapdl.k(\"\", 1, 0, 0)\nk2 = mapdl.k(\"\", 0, 1, 0)\na0 = mapdl.a(k0, k1, k2)\nmapdl.aplot(show_lines=True, line_width=5, show_bounds=True, cpos=\"xy\")"
      ]
    },
    {
      "cell_type": "markdown",
      "metadata": {},
      "source": [
        "Create a simple cube volume.\r\n"
      ]
    },
    {
      "cell_type": "code",
      "execution_count": null,
      "metadata": {
        "collapsed": false
      },
      "outputs": [],
      "source": [
        "mapdl.clear()  # let's clear first.\nmapdl.prep7()  # entering in preprocessor\n\nk0 = mapdl.k(\"\", 0, 0, 0)  # defining a keypoint at (0,0,0) location\nk1 = mapdl.k(\"\", 1, 0, 0)  # defining a keypoint at (1,0,0) location\nk2 = mapdl.k(\"\", 1, 1, 0)  # etc\nk3 = mapdl.k(\"\", 0, 1, 0)\nk4 = mapdl.k(\"\", 0, 0, 1)\nk5 = mapdl.k(\"\", 1, 0, 1)\nk6 = mapdl.k(\"\", 1, 1, 1)\nk7 = mapdl.k(\"\", 0, 1, 1)\n\n# defining volume according the kps\nv0 = mapdl.v(k0, k1, k2, k3, k4, k5, k6, k7)\n\nmapdl.vplot(show_lines=True)"
      ]
    },
    {
      "cell_type": "markdown",
      "metadata": {},
      "source": [
        "# Material definition\r\n\r\nYou can define materials using the following commands:\r\n"
      ]
    },
    {
      "cell_type": "code",
      "execution_count": null,
      "metadata": {
        "collapsed": false
      },
      "outputs": [],
      "source": [
        "# Define a material (nominal steel in SI)\nmapdl.mp(\"EX\", 1, 210e9)  # Elastic moduli in Pa (kg/(m*s**2))\nmapdl.mp(\"DENS\", 1, 7800)  # Density in kg/m3\nmapdl.mp(\"NUXY\", 1, 0.3)  # Poisson's Ratio"
      ]
    },
    {
      "cell_type": "markdown",
      "metadata": {},
      "source": [
        "At any point you can use help to get information about each function\r\n"
      ]
    },
    {
      "cell_type": "code",
      "execution_count": null,
      "metadata": {
        "collapsed": false
      },
      "outputs": [],
      "source": [
        "help(mapdl.mp)"
      ]
    },
    {
      "cell_type": "markdown",
      "metadata": {},
      "source": [
        "Or you can check the online help at\r\n[mapdl.docs.pyansys.com](https://mapdl.docs.pyansys.com/mapdl_commands/prep7/_autosummary/ansys.mapdl.core.Mapdl.mp.html?highlight=mp#ansys.mapdl.core.Mapdl.mp)\r\n"
      ]
    },
    {
      "cell_type": "markdown",
      "metadata": {},
      "source": [
        "# Element definition\r\n\r\nSince MAPDL is a finite element solver, the type of element needs to be\r\ndefined. Ansys has an *Element Guide* which contain all the necessary\r\ninformation\r\n"
      ]
    },
    {
      "cell_type": "code",
      "execution_count": null,
      "metadata": {
        "collapsed": false
      },
      "outputs": [],
      "source": [
        "mapdl.et(1, \"SOLID186\")"
      ]
    },
    {
      "cell_type": "markdown",
      "metadata": {},
      "source": [
        "`SOLID186` is a 3D hexahedron element, suitable for any structural 3D\r\nanalysis.\r\n\r\nThere are also `KEYOPTS` which allow us to configure the elements. Also\r\nthere is the constant sets `R` which helps us to set the analysis and\r\nelement configurations.\r\n"
      ]
    },
    {
      "cell_type": "markdown",
      "metadata": {},
      "source": [
        "# Meshing\r\n\r\nMeshing is quite easy, once the element and material are defined.\r\n"
      ]
    },
    {
      "cell_type": "code",
      "execution_count": null,
      "metadata": {
        "collapsed": false
      },
      "outputs": [],
      "source": [
        "mapdl.esize(1 / 10)  # Element size\nmapdl.vmesh(v0)"
      ]
    },
    {
      "cell_type": "markdown",
      "metadata": {},
      "source": [
        "Let\\'s see the result\r\n"
      ]
    },
    {
      "cell_type": "code",
      "execution_count": null,
      "metadata": {
        "collapsed": false
      },
      "outputs": [],
      "source": [
        "mapdl.eplot()  # plot elements"
      ]
    },
    {
      "cell_type": "markdown",
      "metadata": {},
      "source": [
        "# Boundary conditions\r\n\r\nThere are many boundary conditions options, and most of them are applied\r\nusing `mapdl.d` (for displacement) or `mapdl.f` (for force).\r\n\r\nLet\\'s setup this example to represent a compression test. For that\r\npurpose, we need to fix the box bottom surface to have zero\r\ndisplacement.\r\n\r\nBut first, we need to select the corresponding nodes using the\r\n`mapdl.nsel` command:\r\n"
      ]
    },
    {
      "cell_type": "code",
      "execution_count": null,
      "metadata": {
        "collapsed": false
      },
      "outputs": [],
      "source": [
        "help(mapdl.nsel)"
      ]
    },
    {
      "cell_type": "code",
      "execution_count": null,
      "metadata": {
        "collapsed": false
      },
      "outputs": [],
      "source": [
        "mapdl.nsel(\"S\", \"loc\", \"z\", 0)\nmapdl.nplot()  # check the selection"
      ]
    },
    {
      "cell_type": "markdown",
      "metadata": {},
      "source": [
        "Applying to all selected nodes, displacement in Z direction equals to\r\nzero.\r\n"
      ]
    },
    {
      "cell_type": "code",
      "execution_count": null,
      "metadata": {
        "collapsed": false
      },
      "outputs": [],
      "source": [
        "mapdl.d(\"all\", \"UZ\", 0)\n\n# Let's check the result\nmapdl.nplot(plot_bc=True)"
      ]
    },
    {
      "cell_type": "markdown",
      "metadata": {},
      "source": [
        "Let\\'s apply the rest of the boundary conditions.\r\n"
      ]
    },
    {
      "cell_type": "code",
      "execution_count": null,
      "metadata": {
        "collapsed": false
      },
      "outputs": [],
      "source": [
        "# Let's fix the box edge XZ to not move except along Y.\nmapdl.nsel(\"s\", \"loc\", \"z\", 0)\n# \"r\" is to reselect the nodes, from the previous \"S\" selection\nmapdl.nsel(\"r\", \"loc\", \"x\", 0)\n\nmapdl.d(\"all\", \"UZ\", 0)\nmapdl.d(\"all\", \"UX\", 0)\n\n# we will do the same with the line YZ, but not move along X direction.\nmapdl.nsel(\"s\", \"loc\", \"z\", 0)\nmapdl.nsel(\"r\", \"loc\", \"Y\", 0)\n\nmapdl.d(\"all\", \"UZ\", 0)\nmapdl.d(\"all\", \"UY\", 0)"
      ]
    },
    {
      "cell_type": "markdown",
      "metadata": {},
      "source": [
        "Finally let\\'s fix one node in the directions:\r\n"
      ]
    },
    {
      "cell_type": "code",
      "execution_count": null,
      "metadata": {
        "collapsed": false
      },
      "outputs": [],
      "source": [
        "mapdl.nsel(\"s\", \"loc\", \"x\", 0)\nmapdl.nsel(\"r\", \"loc\", \"y\", 0)\nmapdl.nsel(\"r\", \"loc\", \"z\", 0)\n\nmapdl.d(\"all\", \"all\", 0)\n\n# this code is redundant, because the nodal displacements do not overwrite each other\n# if they are not in the same direction.\n# This node was included in the previous lines selections, hence its\n# boundary conditions are already defined."
      ]
    },
    {
      "cell_type": "markdown",
      "metadata": {},
      "source": [
        "Let\\'s check the final result\r\n"
      ]
    },
    {
      "cell_type": "code",
      "execution_count": null,
      "metadata": {
        "collapsed": false
      },
      "outputs": [],
      "source": [
        "mapdl.nsel(\"s\", \"loc\", \"z\", 0)\n\nmapdl.nplot(plot_bc=True)"
      ]
    },
    {
      "cell_type": "markdown",
      "metadata": {},
      "source": [
        "Now let\\'s apply a displacement at the box top at each node. We could\r\napply a force instead if we wish.\r\n"
      ]
    },
    {
      "cell_type": "code",
      "execution_count": null,
      "metadata": {
        "collapsed": false
      },
      "outputs": [],
      "source": [
        "mapdl.nsel(\"s\", \"loc\", \"z\", 1)\n# mapdl.f(\"all\", \"FZ\", 1E9)\nmapdl.d(\"all\", \"UZ\", 0.01)"
      ]
    },
    {
      "cell_type": "markdown",
      "metadata": {},
      "source": [
        "# Analysis setup\r\n\r\nLet\\'s do a simple static analysis\r\n"
      ]
    },
    {
      "cell_type": "code",
      "execution_count": null,
      "metadata": {
        "collapsed": false
      },
      "outputs": [],
      "source": [
        "mapdl.slashsolu()\nmapdl.allsel()  # making sure all nodes and elements are selected.\nmapdl.antype(\"STATIC\")\noutput = mapdl.solve()\nprint(output)"
      ]
    },
    {
      "cell_type": "markdown",
      "metadata": {},
      "source": [
        "# Post-Processing\r\n\r\nLet\\'s what we got. Let\\'s see the displacements:\r\n"
      ]
    },
    {
      "cell_type": "code",
      "execution_count": null,
      "metadata": {
        "collapsed": false
      },
      "outputs": [],
      "source": [
        "mapdl.post_processing.nodal_displacement(\"all\")"
      ]
    },
    {
      "cell_type": "markdown",
      "metadata": {},
      "source": [
        "Let\\'s plot them\r\n"
      ]
    },
    {
      "cell_type": "code",
      "execution_count": null,
      "metadata": {
        "collapsed": false
      },
      "outputs": [],
      "source": [
        "mapdl.post_processing.plot_nodal_displacement(\"Z\")"
      ]
    },
    {
      "cell_type": "markdown",
      "metadata": {},
      "source": [
        "We can store the displacements as an array and use them for our\r\ncalculations. For example:\r\n"
      ]
    },
    {
      "cell_type": "code",
      "execution_count": null,
      "metadata": {
        "collapsed": false
      },
      "outputs": [],
      "source": [
        "nodal_disp = mapdl.post_processing.nodal_displacement(\"all\")\n\nprint(f\"The maximum displacement is {nodal_disp.max():0.3f}\")"
      ]
    },
    {
      "cell_type": "markdown",
      "metadata": {},
      "source": [
        "Oh! By the way, you can format strings in this way, they are very\r\npowerful. This type of string is called f-string. The 0.3f after the\r\ncolon (:) is the format for the number.\r\n"
      ]
    },
    {
      "cell_type": "code",
      "execution_count": null,
      "metadata": {
        "collapsed": false
      },
      "outputs": [],
      "source": [
        "# First column is X displacement\nprint(f\"The maximum X displacement is {nodal_disp[:, 0].max():0.3f}\")\n\nprint(f\"The average Z displacement is {nodal_disp[:, 2].mean():0.3f}\")"
      ]
    },
    {
      "cell_type": "markdown",
      "metadata": {},
      "source": [
        "# Closing session\r\n\r\nThis is all for today. We hope you enjoyed this talk, as much as we\r\nenjoyed preparing it!\r\n\r\nClosing PyMAPDL session\r\n"
      ]
    },
    {
      "cell_type": "code",
      "execution_count": null,
      "metadata": {
        "collapsed": false
      },
      "outputs": [],
      "source": [
        "mapdl.exit()"
      ]
    }
  ],
  "metadata": {
    "kernelspec": {
      "display_name": "Python 3",
      "language": "python",
      "name": "python3"
    },
    "language_info": {
      "codemirror_mode": {
        "name": "ipython",
        "version": 3
      },
      "file_extension": ".py",
      "mimetype": "text/x-python",
      "name": "python",
      "nbconvert_exporter": "python",
      "pygments_lexer": "ipython3",
      "version": "3.9.13"
    }
  },
  "nbformat": 4,
  "nbformat_minor": 0
}